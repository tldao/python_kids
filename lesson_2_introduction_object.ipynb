{
 "cells": [
  {
   "cell_type": "markdown",
   "metadata": {},
   "source": [
    "# Introduction a objet en python\n",
    "\n",
    "Ici, on apprend le concept elementaire d'objet en langage Python"
   ]
  },
  {
   "cell_type": "markdown",
   "metadata": {},
   "source": [
    "## Objet Python"
   ]
  },
  {
   "cell_type": "markdown",
   "metadata": {},
   "source": [
    "### Explication"
   ]
  },
  {
   "cell_type": "code",
   "execution_count": 57,
   "metadata": {},
   "outputs": [],
   "source": [
    "class Voiture(object):\n",
    "    def __init__(self):\n",
    "        self.couleur = 'blue'\n",
    "        self.roue = '1m'\n",
    "        self.puissance = '10CV'\n",
    "        self.longeur = '3m'\n",
    "        self.largeur = '1.5m'\n",
    "        self.hauteur = '2m'\n",
    "        self.roue_motrice = 4\n",
    "        self.sieges = 5\n",
    "        self.poids = '1ton'\n",
    "        \n",
    "    def demarrer(self):\n",
    "        print \"Bru ... bruuuuu....\"    \n",
    "        \n",
    "    def en_panne(self):\n",
    "        print \"Boom...Boom...Kec...kec...xiiiii...xiiiii\""
   ]
  },
  {
   "cell_type": "code",
   "execution_count": 58,
   "metadata": {},
   "outputs": [],
   "source": [
    "ma_voiture = Voiture() "
   ]
  },
  {
   "cell_type": "code",
   "execution_count": 59,
   "metadata": {},
   "outputs": [
    {
     "data": {
      "text/plain": [
       "'blue'"
      ]
     },
     "execution_count": 59,
     "metadata": {},
     "output_type": "execute_result"
    }
   ],
   "source": [
    "ma_voiture.couleur"
   ]
  },
  {
   "cell_type": "code",
   "execution_count": 60,
   "metadata": {},
   "outputs": [
    {
     "data": {
      "text/plain": [
       "4"
      ]
     },
     "execution_count": 60,
     "metadata": {},
     "output_type": "execute_result"
    }
   ],
   "source": [
    "ma_voiture.roue_motrice"
   ]
  },
  {
   "cell_type": "code",
   "execution_count": 61,
   "metadata": {},
   "outputs": [
    {
     "data": {
      "text/plain": [
       "5"
      ]
     },
     "execution_count": 61,
     "metadata": {},
     "output_type": "execute_result"
    }
   ],
   "source": [
    "ma_voiture.sieges"
   ]
  },
  {
   "cell_type": "code",
   "execution_count": 62,
   "metadata": {},
   "outputs": [
    {
     "name": "stdout",
     "output_type": "stream",
     "text": [
      "Bru ... bruuuuu....\n"
     ]
    }
   ],
   "source": [
    "ma_voiture.demarrer()"
   ]
  },
  {
   "cell_type": "code",
   "execution_count": 63,
   "metadata": {},
   "outputs": [
    {
     "name": "stdout",
     "output_type": "stream",
     "text": [
      "Boom...Boom...Kec...kec...xiiiii...xiiiii\n"
     ]
    }
   ],
   "source": [
    "ma_voiture.en_panne()"
   ]
  },
  {
   "cell_type": "markdown",
   "metadata": {},
   "source": [
    "## Exercice Antoine\n",
    "\n",
    "Faire ton objet prefere"
   ]
  },
  {
   "cell_type": "code",
   "execution_count": 64,
   "metadata": {},
   "outputs": [],
   "source": [
    "class Robot(object):\n",
    "    def __init__(self):\n",
    "        self.puissance = 720\n",
    "        self.defense = 945\n",
    "        self.intelligence = 583\n",
    "        self.vie = '498ans'\n",
    "           \n",
    "    def explosion(self):\n",
    "        print \"Boooooooommmmm\"\n",
    "    \n",
    "    def voler(self):\n",
    "        print \"Viiiiiiooouuuu\"\n",
    "        "
   ]
  },
  {
   "cell_type": "code",
   "execution_count": 65,
   "metadata": {},
   "outputs": [],
   "source": [
    "mon_robot = Robot()"
   ]
  },
  {
   "cell_type": "code",
   "execution_count": 66,
   "metadata": {},
   "outputs": [
    {
     "name": "stdout",
     "output_type": "stream",
     "text": [
      "Boooooooommmmm\n"
     ]
    }
   ],
   "source": [
    "mon_robot.explosion()"
   ]
  },
  {
   "cell_type": "code",
   "execution_count": 67,
   "metadata": {},
   "outputs": [
    {
     "data": {
      "text/plain": [
       "720"
      ]
     },
     "execution_count": 67,
     "metadata": {},
     "output_type": "execute_result"
    }
   ],
   "source": [
    "mon_robot.puissance"
   ]
  },
  {
   "cell_type": "code",
   "execution_count": 68,
   "metadata": {},
   "outputs": [
    {
     "data": {
      "text/plain": [
       "'498ans'"
      ]
     },
     "execution_count": 68,
     "metadata": {},
     "output_type": "execute_result"
    }
   ],
   "source": [
    "mon_robot.vie"
   ]
  },
  {
   "cell_type": "markdown",
   "metadata": {},
   "source": [
    "## Excercice Anthony\n",
    "\n",
    "Faire ton objet prefere"
   ]
  },
  {
   "cell_type": "code",
   "execution_count": 50,
   "metadata": {},
   "outputs": [],
   "source": [
    "class VaisseauSpatial(object):\n",
    "    def __init__(self):\n",
    "        self.vitesse = '400kms/h'\n",
    "        self.resistance = 675\n",
    "        self.attaque = 947\n",
    "    \n",
    "    def attaque_laser(self):\n",
    "        print \"Booooooom........boooooooom\"\n",
    "    \n",
    "    def accident(self):\n",
    "        print \"Craaaaaaaashhhhhh\""
   ]
  },
  {
   "cell_type": "code",
   "execution_count": 53,
   "metadata": {},
   "outputs": [],
   "source": [
    "mon_vaisseau_spatial = VaisseauSpatial()"
   ]
  },
  {
   "cell_type": "code",
   "execution_count": 54,
   "metadata": {},
   "outputs": [
    {
     "data": {
      "text/plain": [
       "675"
      ]
     },
     "execution_count": 54,
     "metadata": {},
     "output_type": "execute_result"
    }
   ],
   "source": [
    "mon_vaisseau_spatial.resistance"
   ]
  },
  {
   "cell_type": "code",
   "execution_count": 55,
   "metadata": {},
   "outputs": [
    {
     "name": "stdout",
     "output_type": "stream",
     "text": [
      "Booooooom........boooooooom\n"
     ]
    }
   ],
   "source": [
    "mon_vaisseau_spatial.attaque_laser()"
   ]
  },
  {
   "cell_type": "code",
   "execution_count": 56,
   "metadata": {},
   "outputs": [
    {
     "name": "stdout",
     "output_type": "stream",
     "text": [
      "Craaaaaaaashhhhhh\n"
     ]
    }
   ],
   "source": [
    "mon_vaisseau_spatial.accident()"
   ]
  },
  {
   "cell_type": "code",
   "execution_count": null,
   "metadata": {},
   "outputs": [],
   "source": []
  }
 ],
 "metadata": {
  "kernelspec": {
   "display_name": "Python 2",
   "language": "python",
   "name": "python2"
  },
  "language_info": {
   "codemirror_mode": {
    "name": "ipython",
    "version": 2
   },
   "file_extension": ".py",
   "mimetype": "text/x-python",
   "name": "python",
   "nbconvert_exporter": "python",
   "pygments_lexer": "ipython2",
   "version": "2.7.15"
  }
 },
 "nbformat": 4,
 "nbformat_minor": 2
}
