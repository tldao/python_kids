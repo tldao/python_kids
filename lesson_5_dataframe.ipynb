{
 "cells": [
  {
   "cell_type": "code",
   "execution_count": 2,
   "metadata": {},
   "outputs": [
    {
     "name": "stdout",
     "output_type": "stream",
     "text": [
      "Populating the interactive namespace from numpy and matplotlib\n"
     ]
    }
   ],
   "source": [
    "import pandas as pd\n",
    "from IPython.display import display\n",
    "from IPython.display import Image\n",
    "from IPython.lib.display import YouTubeVideo\n",
    "from IPython.display import HTML\n",
    "from colorama import Fore, Back, Style\n",
    "%pylab inline\n",
    "src_path = \"/Users/Ha Minh Huong/Documents/Works/Gaucon/Images/\""
   ]
  },
  {
   "cell_type": "markdown",
   "metadata": {},
   "source": [
    "## Creer un dataframe"
   ]
  },
  {
   "cell_type": "code",
   "execution_count": 15,
   "metadata": {
    "collapsed": true
   },
   "outputs": [],
   "source": [
    "emploi_du_temps = pd.DataFrame(columns=['Lieu', 'Menu', 'Jeux'])"
   ]
  },
  {
   "cell_type": "code",
   "execution_count": 34,
   "metadata": {
    "collapsed": true
   },
   "outputs": [],
   "source": [
    "emploi_du_temps.loc['Lundi'] = ['Chez Jade', 'Pates', 'Musique']\n",
    "emploi_du_temps.loc['Mardi'] = ['Chez Anna', 'Riz', 'Python']\n",
    "emploi_du_temps.loc['Mercredi'] = ['Chez moi', 'Riz', 'Lecture']\n",
    "emploi_du_temps.loc['Jeudi'] = ['Chez moi', 'Riz', 'Rangement']\n",
    "emploi_du_temps.loc['Vendredi'] = ['Chez Julie', 'Frite', 'Sport']\n"
   ]
  },
  {
   "cell_type": "code",
   "execution_count": 35,
   "metadata": {},
   "outputs": [
    {
     "data": {
      "text/html": [
       "<div>\n",
       "<style>\n",
       "    .dataframe thead tr:only-child th {\n",
       "        text-align: right;\n",
       "    }\n",
       "\n",
       "    .dataframe thead th {\n",
       "        text-align: left;\n",
       "    }\n",
       "\n",
       "    .dataframe tbody tr th {\n",
       "        vertical-align: top;\n",
       "    }\n",
       "</style>\n",
       "<table border=\"1\" class=\"dataframe\">\n",
       "  <thead>\n",
       "    <tr style=\"text-align: right;\">\n",
       "      <th></th>\n",
       "      <th>Lieu</th>\n",
       "      <th>Menu</th>\n",
       "      <th>Jeux</th>\n",
       "    </tr>\n",
       "  </thead>\n",
       "  <tbody>\n",
       "    <tr>\n",
       "      <th>Lundi</th>\n",
       "      <td>Chez Jade</td>\n",
       "      <td>Pates</td>\n",
       "      <td>Musique</td>\n",
       "    </tr>\n",
       "    <tr>\n",
       "      <th>Mardi</th>\n",
       "      <td>Chez Anna</td>\n",
       "      <td>Riz</td>\n",
       "      <td>Python</td>\n",
       "    </tr>\n",
       "    <tr>\n",
       "      <th>Vendredi</th>\n",
       "      <td>Chez Julie</td>\n",
       "      <td>Frite</td>\n",
       "      <td>Sport</td>\n",
       "    </tr>\n",
       "    <tr>\n",
       "      <th>Mercredi</th>\n",
       "      <td>Chez moi</td>\n",
       "      <td>Riz</td>\n",
       "      <td>Lecture</td>\n",
       "    </tr>\n",
       "    <tr>\n",
       "      <th>Jeudi</th>\n",
       "      <td>Chez moi</td>\n",
       "      <td>Riz</td>\n",
       "      <td>Rangement</td>\n",
       "    </tr>\n",
       "  </tbody>\n",
       "</table>\n",
       "</div>"
      ],
      "text/plain": [
       "                Lieu   Menu       Jeux\n",
       "Lundi      Chez Jade  Pates    Musique\n",
       "Mardi      Chez Anna    Riz     Python\n",
       "Vendredi  Chez Julie  Frite      Sport\n",
       "Mercredi    Chez moi    Riz    Lecture\n",
       "Jeudi       Chez moi    Riz  Rangement"
      ]
     },
     "execution_count": 35,
     "metadata": {},
     "output_type": "execute_result"
    }
   ],
   "source": [
    "emploi_du_temps"
   ]
  },
  {
   "cell_type": "markdown",
   "metadata": {},
   "source": [
    "## Condition If/Else\n",
    "\n",
    "Couleur fonction"
   ]
  },
  {
   "cell_type": "code",
   "execution_count": 27,
   "metadata": {},
   "outputs": [
    {
     "name": "stdout",
     "output_type": "stream",
     "text": [
      "\u001b[31mVoici ma couleur!\n"
     ]
    }
   ],
   "source": [
    "ma_couleur_dict = {'Jade': Fore.RED,\n",
    "                   'Julie': Fore.YELLOW}\n",
    "\n",
    "nom = 'Jade'\n",
    "\n",
    "if nom == 'Jade':\n",
    "    print ma_couleur_dict[nom] + \"Voici ma couleur!\"\n",
    "        "
   ]
  },
  {
   "cell_type": "markdown",
   "metadata": {
    "collapsed": true
   },
   "source": [
    "## Boucle For"
   ]
  },
  {
   "cell_type": "code",
   "execution_count": 25,
   "metadata": {},
   "outputs": [
    {
     "name": "stdout",
     "output_type": "stream",
     "text": [
      "On va Chez Jade\n",
      "On va Chez Anna\n"
     ]
    }
   ],
   "source": [
    "for jour in emploi_du_temps.index:\n",
    "    print 'On va ' + emploi_du_temps['Lieu'].loc[jour]"
   ]
  },
  {
   "cell_type": "markdown",
   "metadata": {
    "collapsed": true
   },
   "source": [
    "## Fonction"
   ]
  },
  {
   "cell_type": "code",
   "execution_count": 28,
   "metadata": {
    "collapsed": true
   },
   "outputs": [],
   "source": [
    "def couleur_prefere(nom):\n",
    "    if nom == 'Jade':\n",
    "        print ma_couleur_dict[nom] + \"Voici ma couleur!\"\n"
   ]
  },
  {
   "cell_type": "code",
   "execution_count": 29,
   "metadata": {},
   "outputs": [
    {
     "name": "stdout",
     "output_type": "stream",
     "text": [
      "\u001b[31mVoici ma couleur!\n"
     ]
    }
   ],
   "source": [
    "couleur_prefere('Jade')"
   ]
  },
  {
   "cell_type": "code",
   "execution_count": 36,
   "metadata": {
    "collapsed": true
   },
   "outputs": [],
   "source": [
    "def faire_la_somme(a, b):\n",
    "    print a + b"
   ]
  },
  {
   "cell_type": "code",
   "execution_count": 37,
   "metadata": {},
   "outputs": [
    {
     "name": "stdout",
     "output_type": "stream",
     "text": [
      "1023\n"
     ]
    }
   ],
   "source": [
    "faire_la_somme(1000, 23)"
   ]
  },
  {
   "cell_type": "code",
   "execution_count": 39,
   "metadata": {
    "collapsed": true
   },
   "outputs": [],
   "source": [
    "def operation_cauchy(a, b):\n",
    "    r = a ** 2 + b ** 2\n",
    "    return r "
   ]
  },
  {
   "cell_type": "code",
   "execution_count": 40,
   "metadata": {
    "collapsed": true
   },
   "outputs": [],
   "source": [
    "a = 10\n",
    "b = 8"
   ]
  },
  {
   "cell_type": "code",
   "execution_count": 42,
   "metadata": {},
   "outputs": [],
   "source": [
    "r = operation_cauchy(a, b)"
   ]
  },
  {
   "cell_type": "code",
   "execution_count": 43,
   "metadata": {},
   "outputs": [
    {
     "name": "stdout",
     "output_type": "stream",
     "text": [
      "164\n"
     ]
    }
   ],
   "source": [
    "print r"
   ]
  },
  {
   "cell_type": "code",
   "execution_count": 44,
   "metadata": {},
   "outputs": [
    {
     "name": "stdout",
     "output_type": "stream",
     "text": [
      "80\n"
     ]
    }
   ],
   "source": [
    "print a * b"
   ]
  },
  {
   "cell_type": "code",
   "execution_count": null,
   "metadata": {
    "collapsed": true
   },
   "outputs": [],
   "source": []
  }
 ],
 "metadata": {
  "kernelspec": {
   "display_name": "Python 2",
   "language": "python",
   "name": "python2"
  },
  "language_info": {
   "codemirror_mode": {
    "name": "ipython",
    "version": 2
   },
   "file_extension": ".py",
   "mimetype": "text/x-python",
   "name": "python",
   "nbconvert_exporter": "python",
   "pygments_lexer": "ipython2",
   "version": "2.7.13"
  }
 },
 "nbformat": 4,
 "nbformat_minor": 2
}
